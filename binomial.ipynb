{
 "cells": [
  {
   "cell_type": "code",
   "execution_count": 1,
   "metadata": {},
   "outputs": [],
   "source": [
    "import numpy as np\n",
    "import matplotlib.pyplot as plt\n",
    "import pandas as pd\n",
    "import datetime as dt\n",
    "import yfinance as yf\n",
    "from scipy.stats import norm"
   ]
  },
  {
   "cell_type": "markdown",
   "metadata": {},
   "source": [
    "### Binomial tree class"
   ]
  },
  {
   "cell_type": "code",
   "execution_count": 5,
   "metadata": {},
   "outputs": [],
   "source": [
    "class Binomial_Tree():\n",
    "    \"\"\"\n",
    "    Binary_tree class.\n",
    "    Inputs:\n",
    "        -   S: stock price\n",
    "        -   r: risk-free interest rate\n",
    "        -   vol: volatility % in decimals\n",
    "        -   T: Time period\n",
    "        -   N: Number of steps/intervals\n",
    "        -   auto: Compute tree automatically, True as default\n",
    "    \"\"\"\n",
    "\n",
    "    def __init__(self,S,r,vol,T,N, K,auto = True):\n",
    "        \n",
    "        self.S = S\n",
    "        self.r = r\n",
    "        self.vol = vol\n",
    "        self.T = T\n",
    "        self.N = N\n",
    "        self.dt = T/N\n",
    "        \n",
    "        if auto == True:\n",
    "            self.build_tree()\n",
    "            self.valueOptionMatrix(K)\n",
    "\n",
    "    def build_tree(self):\n",
    "    \n",
    "        matrix = np.zeros((self.N+1,self.N+1))\n",
    "        \n",
    "        u = np.exp(self.vol*np.sqrt(self.dt))\n",
    "        d = np.exp(-self.vol*np.sqrt(self.dt))\n",
    "        matrix[0,0] = self.S\n",
    "        \n",
    "        \n",
    "        for i in np.arange(self.N+1) :\n",
    "            for j in np.arange(i+1) : \n",
    "\n",
    "                matrix[i,j] = self.S*(u**(j))*(d**(i-j))\n",
    "        \n",
    "        self.tree = matrix\n",
    "\n",
    "    def valueOptionMatrix(self,K):\n",
    "\n",
    "        self.K = K\n",
    "\n",
    "        columns = self.tree.shape[1]\n",
    "        rows = self.tree.shape[0]\n",
    "        v_tree_european_put = np.copy(self.tree)\n",
    "        v_tree_american_put = np.copy(self.tree)\n",
    "\n",
    "        u= np.exp(self.vol*np.sqrt(self.dt))\n",
    "\n",
    "        d= np.exp(-self.vol*np.sqrt(self.dt))\n",
    "\n",
    "        p= (np.exp(self.r*self.dt) - d)/(u-d)   \n",
    "\n",
    "        for c in np.arange(columns):\n",
    "            St = self.tree[rows - 1, c] \n",
    "            v_tree_european_put[rows -1,c] = max(0., self.K - St)\n",
    "            v_tree_american_put[rows -1,c] = max(0., self.K - St)\n",
    "\n",
    "        for i in np.arange(rows - 1)[:: -1]:\n",
    "            for j in np.arange(i + 1):\n",
    "\n",
    "                european_down_put = v_tree_european_put[ i + 1, j ]\n",
    "                european_up_put = v_tree_european_put[ i + 1, j + 1]\n",
    "\n",
    "                american_down_put = v_tree_american_put[i + 1, j ]\n",
    "                american_up_put = v_tree_american_put[i + 1, j +1]\n",
    "\n",
    "                \n",
    "\n",
    "                v_tree_european_put[i , j ] = np.exp(-self.r*self.dt)*(p*european_up_put + (1-p)*european_down_put)\n",
    "                \n",
    "\n",
    "                v_tree_american_put[i,j] = max(np.exp(-self.r*self.dt)*(p*american_up_put + (1-p)*american_down_put), self.K - self.tree[i,j])\n",
    "       \n",
    "        self.v_tree_european_put = v_tree_european_put\n",
    "        self.v_tree_american_put = v_tree_american_put\n",
    "\n",
    "        \n"
   ]
  },
  {
   "cell_type": "markdown",
   "metadata": {},
   "source": [
    "### Bs class"
   ]
  },
  {
   "cell_type": "code",
   "execution_count": 4,
   "metadata": {},
   "outputs": [],
   "source": [
    "class Black_scholes():\n",
    "    \"\"\"\n",
    "    Black_scholes model class.\n",
    "    Inputs:\n",
    "        -   S: stock price\n",
    "        -   r: risk-free interest rate\n",
    "        -   vol: volatility fo the stock % in decimals\n",
    "        -   T: Time period\n",
    "        -   N: Number of steps/intervals\n",
    "        -   K: Strike price\n",
    "        -   auto: Compute euler,exact method and values. True as default\n",
    "    \"\"\"\n",
    "\n",
    "    def __init__(self, S,r,vol, T,N, K,auto = True):\n",
    "\n",
    "        self.S = S\n",
    "        self.r = r\n",
    "        self.vol = vol\n",
    "        self.T = T\n",
    "        self.N = N\n",
    "        self.dt = T/N\n",
    "        self.K = K\n",
    "        self.taos = self.T - np.arange(0,self.N+1)*self.dt\n",
    "\n",
    "        self.delta = None\n",
    "        self.deltas = None\n",
    "        self.cash = None\n",
    "\n",
    "        if auto == True:\n",
    "            self.option_values(mode = \"euler\")\n",
    "            self.option_values(mode = \"exact\")\n",
    "\n",
    "\n",
    "    def exact_method(self):\n",
    "        \"\"\"\n",
    "        Stocks price of each interval N in period T \n",
    "        using the exact solution of Black scholes\n",
    "        \"\"\"\n",
    "        ex_St= np.zeros(self.N+1)\n",
    "        ex_St[0] = self.S\n",
    "\n",
    "        #### Begin Pre-computations\n",
    "        pre_1 = (self.r-(1/2)*self.vol**2)*self.dt\n",
    "        pre_2 = self.vol*np.sqrt(self.dt)\n",
    "        ###### End Pre-computations\n",
    "\n",
    "        for m in range(1,self.N+1):\n",
    "            Z_m = np.random.normal(0,1,1)\n",
    "            ex_St[m] = ex_St[m-1]*np.exp(pre_1 + pre_2*(Z_m))\n",
    "            S_t = ex_St[m]\n",
    "        \n",
    "        self.ex_St = ex_St\n",
    "\n",
    "\n",
    "    def euler_method(self):\n",
    "        \"\"\"\n",
    "        Stocks price of each interval N in period T \n",
    "        using the euler approximation solution of Black scholes\n",
    "        \"\"\"\n",
    "\n",
    "        eu_St = np.zeros(self.N+1)\n",
    "        eu_St[0] = self.S\n",
    "\n",
    "        #### Begin Pre-computations        \n",
    "        pre_1 = self.r*self.dt\n",
    "        pre_2 = self.vol*np.sqrt(self.dt)\n",
    "        #### End Pre-computations\n",
    "\n",
    "        for m in range(1,self.N+1):\n",
    "            Z_m = np.random.normal(0,1,1)\n",
    "            eu_St[m] = eu_St[m-1] + eu_St[m-1]*pre_1+ eu_St[m-1]*pre_2*Z_m\n",
    "        self.eu_St = eu_St\n",
    "    \n",
    "    def option_values(self,mode = \"exact\"):\n",
    "        \"\"\"\n",
    "        Expected value of an European price call option written on an asset in the Black-scholes model\n",
    "        And hedge parameter\n",
    "    \n",
    "        Inputs:\n",
    "            - mode = If use the exact or euler method of stock price\n",
    "        \"\"\"\n",
    "        \n",
    "        if mode == \"euler\":\n",
    "            if not hasattr(self,'eu_St'):\n",
    "                self.euler_method()\n",
    "            self.eu_Vt = self.option_price(mode)\n",
    "\n",
    "        elif mode == \"exact\":\n",
    "            if not hasattr(self, mode):\n",
    "                self.exact_method()\n",
    "\n",
    "            self.ex_Vt = self.option_price(mode)\n",
    "\n",
    "            ## Hedge parameter for part II question 4\n",
    "            self.delta = norm.cdf((np.log(self.ex_St[0]/self.K) +  (self.r + 0.5*(self.vol**2))*(self.T))/(self.vol*np.sqrt(self.T)))\n",
    "\n",
    "    \n",
    "    def option_price(self,mode, vol_hedge = None):\n",
    "        \"\"\"\n",
    "        Computes the expected price at time t of an european call option\n",
    "        Inputs:\n",
    "            - m: Position in time\n",
    "            - St: Stock value\n",
    "            . vol_hedge: Volatility of hedge, set as stock volatility as default\n",
    "        \"\"\"\n",
    "        if mode == \"exact\":\n",
    "            St = self.ex_St\n",
    "        if mode == \"euler\":\n",
    "            St = self.eu_St\n",
    "        if vol_hedge == None:\n",
    "            vol_hedge = self.vol\n",
    "\n",
    "        d1s = (np.log(St/self.K) + (self.r + 0.5*(vol_hedge**2)*self.taos))/(self.vol*np.sqrt(self.taos))\n",
    "        d2s = d1s - vol_hedge*np.sqrt(self.taos)\n",
    "        Vt = St*norm.cdf(d1s) - np.exp(-self.r*self.taos)*self.K*norm.cdf(d2s)\n",
    "\n",
    "        return Vt"
   ]
  },
  {
   "cell_type": "code",
   "execution_count": 2,
   "metadata": {},
   "outputs": [
    {
     "name": "stdout",
     "output_type": "stream",
     "text": [
      "Last Traded Price of put option with Expiry: 2024-09-20, Strike price: $175.0, and Open Interest: 30243 is $11.28\n"
     ]
    }
   ],
   "source": [
    "aapl = yf.Ticker(\"AAPL\")\n",
    "n_years = 1\n",
    "# get historical data for AAPL stock for n years\n",
    "end_date = dt.datetime.now()\n",
    "start_date = end_date - dt.timedelta(days=365*n_years)\n",
    "aapl_data = yf.download('AAPL', start=start_date, end=end_date, progress=False)\n",
    "option_expiry = '2024-09-20'\n",
    "\n",
    "opt = aapl.option_chain(option_expiry)\n",
    "opt.puts['ExpirationDate'] = option_expiry\n",
    "puts_df = opt.puts.copy(deep=True)\n",
    "puts_df.to_csv('AAPL_puts.csv')\n",
    "puts_df = puts_df[puts_df['inTheMoney'] == True]\n",
    "puts_df.sort_values('strike', inplace=True)\n",
    "puts_df.reset_index(drop=True, inplace=True)\n",
    "\n",
    "print(f'Last Traded Price of put option with Expiry: {puts_df.loc[0,\"ExpirationDate\"]}, Strike price: ${puts_df.loc[0,\"strike\"]}, and Open Interest: {puts_df.loc[0,\"openInterest\"]} is ${puts_df.loc[0,\"lastPrice\"]}')\n"
   ]
  },
  {
   "cell_type": "code",
   "execution_count": null,
   "metadata": {},
   "outputs": [],
   "source": [
    "S =\n",
    "K = puts_df.loc[0,\"strike\"]\n",
    "vol = \n",
    "T ="
   ]
  },
  {
   "cell_type": "markdown",
   "metadata": {},
   "source": [
    "## Question 2"
   ]
  },
  {
   "cell_type": "code",
   "execution_count": null,
   "metadata": {},
   "outputs": [],
   "source": [
    "def question_2(S,r,vol,T,Ns,K):\n",
    "    binomial_trees = np.vectorize(Binomial_Tree,excluded= 'S','r','vol','T', 'K')(S,r,vol,T,Ns,K)\n",
    "    black_scholes = Black_scholes(S,r,vol, T,5, K)\n",
    "    bs = black_scholes.ex_Vt[0]\n",
    "    values = np.vectorize(lambda x: x.v_tree_european_put[0,0])(binary_trees)\n",
    "    return values,bs"
   ]
  },
  {
   "cell_type": "code",
   "execution_count": 12,
   "metadata": {},
   "outputs": [
    {
     "name": "stdout",
     "output_type": "stream",
     "text": [
      "[  2   3   4   5   6   7   8   9  10  11  12  13  14  15  16  17  18  19\n",
      "  20  21  22  23  24  25  26  27  28  29  30  31  32  33  34  35  36  37\n",
      "  38  39  40  41  42  43  44  45  46  47  48  49  50  51  52  53  54  55\n",
      "  56  57  58  59  60  61  62  63  64  65  66  67  68  69  70  71  72  73\n",
      "  74  75  76  77  78  79  80  81  82  83  84  85  86  87  88  89  90  91\n",
      "  92  93  94  95  96  97  98  99 100]\n"
     ]
    }
   ],
   "source": [
    "Ns = np.linspace(2,100, num = 99, dtype = int)\n",
    "values, bs = question_2(S,r,vol,T,Ns,K)\n",
    "plt.plot(Ns,np.full(len(Ns),v_black_scholes), linestyle='--' ,label = \"Black scholes\", color = 'red')\n",
    "plt.plot(Ns, v_binary_trees, marker = 'o' label = \"Binomial tree\")\n",
    "plt.xlabel('N')\n",
    "plt.ylabel('Option value')\n",
    "plt.grid(True)\n",
    "plt.legend()"
   ]
  },
  {
   "cell_type": "markdown",
   "metadata": {},
   "source": [
    "## Question 3"
   ]
  },
  {
   "cell_type": "code",
   "execution_count": null,
   "metadata": {},
   "outputs": [],
   "source": [
    "binomial_tree = Binomial_Tree(S,r,vol,T,N,K)\n",
    "print('European Put option')\n",
    "print(binomial_tree.v_tree_european_put)\n",
    "\n",
    "print('American Put option')\n",
    "print(binomial_tree.v_tree_american_put)"
   ]
  },
  {
   "cell_type": "markdown",
   "metadata": {},
   "source": [
    "### a)"
   ]
  },
  {
   "cell_type": "markdown",
   "metadata": {},
   "source": [
    "The american option is worth more"
   ]
  },
  {
   "cell_type": "code",
   "execution_count": 13,
   "metadata": {},
   "outputs": [
    {
     "ename": "NameError",
     "evalue": "name 'binomial_tree' is not defined",
     "output_type": "error",
     "traceback": [
      "\u001b[1;31m---------------------------------------------------------------------------\u001b[0m",
      "\u001b[1;31mNameError\u001b[0m                                 Traceback (most recent call last)",
      "Cell \u001b[1;32mIn[13], line 2\u001b[0m\n\u001b[0;32m      1\u001b[0m \u001b[38;5;66;03m### Optimal execution\u001b[39;00m\n\u001b[1;32m----> 2\u001b[0m np\u001b[38;5;241m.\u001b[39mwhere(binomial_tree\u001b[38;5;241m.\u001b[39mv_tree_american_put \u001b[38;5;241m>\u001b[39mbinomial_tree\u001b[38;5;241m.\u001b[39mv_tree_american_put[\u001b[38;5;241m0\u001b[39m,\u001b[38;5;241m0\u001b[39m])\n",
      "\u001b[1;31mNameError\u001b[0m: name 'binomial_tree' is not defined"
     ]
    }
   ],
   "source": [
    "### Optimal execution\n",
    "np.where(binomial_tree.v_tree_american_put >binomial_tree.v_tree_american_put[0,0])"
   ]
  },
  {
   "cell_type": "code",
   "execution_count": null,
   "metadata": {},
   "outputs": [],
   "source": []
  }
 ],
 "metadata": {
  "kernelspec": {
   "display_name": "Python 3",
   "language": "python",
   "name": "python3"
  },
  "language_info": {
   "codemirror_mode": {
    "name": "ipython",
    "version": 3
   },
   "file_extension": ".py",
   "mimetype": "text/x-python",
   "name": "python",
   "nbconvert_exporter": "python",
   "pygments_lexer": "ipython3",
   "version": "3.11.4"
  }
 },
 "nbformat": 4,
 "nbformat_minor": 2
}
