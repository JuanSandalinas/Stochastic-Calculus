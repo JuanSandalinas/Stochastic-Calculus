{
 "cells": [
  {
   "cell_type": "code",
   "execution_count": 1,
   "metadata": {},
   "outputs": [],
   "source": [
    "import numpy as np\n",
    "import matplotlib.pyplot as plt\n",
    "import pandas as pd\n",
    "import datetime as dt\n",
    "import yfinance as yf"
   ]
  },
  {
   "cell_type": "code",
   "execution_count": 36,
   "metadata": {},
   "outputs": [
    {
     "name": "stdout",
     "output_type": "stream",
     "text": [
      "Last Traded Price of put option with Expiry: 2024-09-20, Strike price: $175.0, and Open Interest: 30175 is $10.35\n"
     ]
    }
   ],
   "source": [
    "aapl = yf.Ticker(\"AAPL\")\n",
    "n_years = 1\n",
    "# get historical data for AAPL stock for n years\n",
    "end_date = dt.datetime.now()\n",
    "start_date = end_date - dt.timedelta(days=365*n_years)\n",
    "aapl_data = yf.download('AAPL', start=start_date, end=end_date, progress=False)\n",
    "option_expiry = '2024-09-20'\n",
    "\n",
    "opt = aapl.option_chain(option_expiry)\n",
    "opt.puts['ExpirationDate'] = option_expiry\n",
    "puts_df = opt.puts.copy(deep=True)\n",
    "puts_df.to_csv('AAPL_puts.csv')\n",
    "puts_df = puts_df[puts_df['inTheMoney'] == True]\n",
    "puts_df.sort_values('strike', inplace=True)\n",
    "puts_df.reset_index(drop=True, inplace=True)\n",
    "\n",
    "print(f'Last Traded Price of put option with Expiry: {puts_df.loc[0,\"ExpirationDate\"]}, Strike price: ${puts_df.loc[0,\"strike\"]}, and Open Interest: {puts_df.loc[0,\"openInterest\"]} is ${puts_df.loc[0,\"lastPrice\"]}')\n"
   ]
  },
  {
   "cell_type": "code",
   "execution_count": null,
   "metadata": {},
   "outputs": [],
   "source": []
  }
 ],
 "metadata": {
  "kernelspec": {
   "display_name": "Python 3",
   "language": "python",
   "name": "python3"
  },
  "language_info": {
   "codemirror_mode": {
    "name": "ipython",
    "version": 3
   },
   "file_extension": ".py",
   "mimetype": "text/x-python",
   "name": "python",
   "nbconvert_exporter": "python",
   "pygments_lexer": "ipython3",
   "version": "3.12.0"
  }
 },
 "nbformat": 4,
 "nbformat_minor": 2
}
