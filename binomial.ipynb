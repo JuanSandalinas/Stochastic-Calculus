{
 "cells": [
  {
   "cell_type": "code",
   "execution_count": 5,
   "metadata": {},
   "outputs": [],
   "source": [
    "import numpy as np\n",
    "import matplotlib.pyplot as plt\n",
    "import pandas as pd\n",
    "import datetime as dt\n",
    "import yfinance as yf\n",
    "from scipy.stats import norm\n",
    "import pandas_market_calendars as mcal"
   ]
  },
  {
   "cell_type": "markdown",
   "metadata": {},
   "source": [
    "## Pre"
   ]
  },
  {
   "cell_type": "markdown",
   "metadata": {},
   "source": [
    "#### Binomial tree class"
   ]
  },
  {
   "cell_type": "code",
   "execution_count": 37,
   "metadata": {},
   "outputs": [],
   "source": [
    "class Binomial_Tree():\n",
    "    \"\"\"\n",
    "    BinÇary_tree class.\n",
    "    Inputs:\n",
    "        -   S: stock price\n",
    "        -   r: risk-free interest rate\n",
    "        -   vol: volatility % in decimals\n",
    "        -   T: Time period\n",
    "        -   N: Number of steps/intervals\n",
    "        -   auto: Compute tree automatically, True as default\n",
    "    \"\"\"\n",
    "\n",
    "    def __init__(self,S,r,vol,T,N, K,auto = True):\n",
    "        \n",
    "        self.S = S\n",
    "        self.r = r\n",
    "        self.vol = vol\n",
    "        self.T = T\n",
    "        self.N = N\n",
    "        self.dt = T/N\n",
    "        \n",
    "        if auto == True:\n",
    "            self.build_tree()\n",
    "            self.valueOptionMatrix(K)\n",
    "\n",
    "    def build_tree(self):\n",
    "    \n",
    "        matrix = np.zeros((self.N+1,self.N+1))\n",
    "        \n",
    "        u = np.exp(self.vol*np.sqrt(self.dt))\n",
    "        d = np.exp(-self.vol*np.sqrt(self.dt))\n",
    "        matrix[0,0] = self.S\n",
    "        \n",
    "        \n",
    "        for i in np.arange(self.N+1) :\n",
    "            for j in np.arange(i+1) : \n",
    "\n",
    "                matrix[i,j] = self.S*(u**(j))*(d**(i-j))\n",
    "        \n",
    "        self.tree = matrix\n",
    "\n",
    "    def valueOptionMatrix(self,K):\n",
    "\n",
    "        self.K = K\n",
    "\n",
    "        columns = self.tree.shape[1]\n",
    "        rows = self.tree.shape[0]\n",
    "        v_tree_european_put = np.copy(self.tree)\n",
    "        v_tree_american_put = np.copy(self.tree)\n",
    "\n",
    "        u= np.exp(self.vol*np.sqrt(self.dt))\n",
    "\n",
    "        d= np.exp(-self.vol*np.sqrt(self.dt))\n",
    "\n",
    "        p= (np.exp(self.r*self.dt) - d)/(u-d)   \n",
    "\n",
    "        for c in np.arange(columns):\n",
    "            St = self.tree[rows - 1, c] \n",
    "            v_tree_european_put[rows -1,c] = max(0., self.K - St)\n",
    "            v_tree_american_put[rows -1,c] = max(0., self.K - St)\n",
    "\n",
    "        for i in np.arange(rows - 1)[:: -1]:\n",
    "            for j in np.arange(i + 1):\n",
    "\n",
    "                european_down_put = v_tree_european_put[ i + 1, j ]\n",
    "                european_up_put = v_tree_european_put[ i + 1, j + 1]\n",
    "\n",
    "                american_down_put = v_tree_american_put[i + 1, j ]\n",
    "                american_up_put = v_tree_american_put[i + 1, j +1]\n",
    "\n",
    "                \n",
    "\n",
    "                v_tree_european_put[i , j ] = max(np.exp(-self.r*self.dt)*(p*european_up_put + (1-p)*european_down_put),self.K - self.tree[i,j])\n",
    "                \n",
    "\n",
    "                v_tree_american_put[i,j] = max(np.exp(-self.r*self.dt)*(p*american_up_put + (1-p)*american_down_put), self.K - self.tree[i,j])\n",
    "       \n",
    "        self.v_tree_european_put = v_tree_european_put\n",
    "        self.v_tree_american_put = v_tree_american_put\n",
    "\n",
    "        \n"
   ]
  },
  {
   "cell_type": "markdown",
   "metadata": {},
   "source": [
    "#### Bs class"
   ]
  },
  {
   "cell_type": "code",
   "execution_count": 38,
   "metadata": {},
   "outputs": [],
   "source": [
    "def black_scholes(S,r,vol, T, K):\n",
    "    \"\"\"\n",
    "    Black_scholes model option value.\n",
    "    Inputs:\n",
    "        -   S: stock price\n",
    "        -   r: risk-free interest rate\n",
    "        -   vol: volatility fo the stock % in decimals\n",
    "        -   T: Time period\n",
    "        -   K: Strike price\n",
    "\n",
    "    \"\"\"\n",
    "\n",
    "    d1 = (np.log(S/K) + (r + 0.5*(vol**2)*T))/(vol*np.sqrt(T))\n",
    "    d2 = d1 - vol*np.sqrt(T)\n",
    "    Vt = K * np.exp(-r * T) * norm.cdf(-d2) - S*norm.cdf(-d1)\n",
    "\n",
    "    return Vt"
   ]
  },
  {
   "cell_type": "markdown",
   "metadata": {},
   "source": [
    "#### Obtain Parameters for Option Pricing"
   ]
  },
  {
   "cell_type": "code",
   "execution_count": 20,
   "metadata": {},
   "outputs": [
    {
     "name": "stdout",
     "output_type": "stream",
     "text": [
      "Last Traded Price of put option with Expiry: 2024-09-20, Strike price: $175.0, and Open Interest: 30243 is $11.28\n"
     ]
    }
   ],
   "source": [
    "aapl = yf.Ticker(\"AAPL\")\n",
    "n_years = 1\n",
    "# get historical data for AAPL stock for n years\n",
    "end_date = dt.datetime.now()\n",
    "start_date = end_date - dt.timedelta(days=365*n_years)\n",
    "aapl_data = yf.download('AAPL', start=start_date, end=end_date, progress=False)\n",
    "option_expiry = '2024-09-20'\n",
    "\n",
    "aapl_options = aapl.option_chain(option_expiry)\n",
    "aapl_options.puts['ExpirationDate'] = option_expiry\n",
    "puts_df = aapl_options.puts.copy(deep=True)\n",
    "puts_df.to_csv('AAPL_puts.csv')\n",
    "puts_df = puts_df[puts_df['inTheMoney'] == True]\n",
    "puts_df.sort_values('strike', inplace=True)\n",
    "puts_df.reset_index(drop=True, inplace=True)\n",
    "\n",
    "print(f'Last Traded Price of put option with Expiry: {puts_df.loc[0,\"ExpirationDate\"]}, Strike price: ${puts_df.loc[0,\"strike\"]}, and Open Interest: {puts_df.loc[0,\"openInterest\"]} is ${puts_df.loc[0,\"lastPrice\"]}')\n",
    "K = puts_df.loc[0,\"strike\"]\n",
    "S = aapl_data['Close'].iloc[-1]"
   ]
  },
  {
   "cell_type": "markdown",
   "metadata": {},
   "source": [
    "## Question 1"
   ]
  },
  {
   "cell_type": "markdown",
   "metadata": {},
   "source": [
    "#### (a) Time to expiration"
   ]
  },
  {
   "cell_type": "code",
   "execution_count": 21,
   "metadata": {},
   "outputs": [
    {
     "name": "stdout",
     "output_type": "stream",
     "text": [
      "Time to expiry in years: 0.53\n"
     ]
    }
   ],
   "source": [
    "\n",
    "nasdaq = mcal.get_calendar('NASDAQ')\n",
    "n_trading_days = len(nasdaq.schedule(start_date=dt.datetime.now(), end_date=option_expiry))\n",
    "T = round(n_trading_days/252,2)\n",
    "print(f\"Time to expiry in years: {T}\")\n"
   ]
  },
  {
   "cell_type": "markdown",
   "metadata": {},
   "source": [
    "#### (b) Risk free rate"
   ]
  },
  {
   "cell_type": "code",
   "execution_count": 22,
   "metadata": {},
   "outputs": [
    {
     "name": "stdout",
     "output_type": "stream",
     "text": [
      "Risk free rate: 0.05\n"
     ]
    }
   ],
   "source": [
    "R = 5.12 # 26 week US Treasury Bill rate\n",
    "r = round(np.log(1 + R / 100),2)\n",
    "print(f\"Risk free rate: {r}\")"
   ]
  },
  {
   "cell_type": "markdown",
   "metadata": {},
   "source": [
    "#### (c) Annualized historical volatility"
   ]
  },
  {
   "cell_type": "code",
   "execution_count": 23,
   "metadata": {},
   "outputs": [
    {
     "name": "stdout",
     "output_type": "stream",
     "text": [
      "Volatility: 0.19\n"
     ]
    }
   ],
   "source": [
    "if n_years > 1:\n",
    "    aapl_data['Log Returns'] = np.log(aapl_data['Adj Close'] / aapl_data['Adj Close'].shift(1))\n",
    "else:\n",
    "    aapl_data['Log Returns'] = np.log(aapl_data['Close'] / aapl_data['Close'].shift(1))\n",
    "\n",
    "aapl_data['Log Returns'].dropna(inplace=True)\n",
    "sigma = round(aapl_data['Log Returns'].std() * np.sqrt(252),2)\n",
    "aapl_data.to_csv('AAPL_historical_data.csv')\n",
    "print(f\"Volatility: {sigma}\")\n",
    "vol = sigma"
   ]
  },
  {
   "cell_type": "markdown",
   "metadata": {},
   "source": [
    "## Question 2"
   ]
  },
  {
   "cell_type": "code",
   "execution_count": 41,
   "metadata": {},
   "outputs": [],
   "source": [
    "def question_2(S,r,vol,T,Ns,K, option = 'European'):\n",
    "    binomial_trees = np.vectorize(Binomial_Tree,excluded= ['S','r','vol','T', 'K'])(S,r,vol,T,Ns,K)\n",
    "    bs= black_scholes(S,r,vol, T, K)\n",
    "    \n",
    "    if option == 'European':\n",
    "        values = np.vectorize(lambda x: x.v_tree_european_put[0,0])(binomial_trees)\n",
    "    else:\n",
    "        values = np.vectorize(lambda x: x.v_tree_american_put[0,0])(binomial_trees)\n",
    "    return values,bs"
   ]
  },
  {
   "cell_type": "code",
   "execution_count": 42,
   "metadata": {},
   "outputs": [
    {
     "name": "stdout",
     "output_type": "stream",
     "text": [
      "aa\n"
     ]
    },
    {
     "data": {
      "text/plain": [
       "<matplotlib.legend.Legend at 0x16dd7b96c50>"
      ]
     },
     "execution_count": 42,
     "metadata": {},
     "output_type": "execute_result"
    },
    {
     "data": {
      "image/png": "[encoded data removed]",
      "text/plain": [
       "<Figure size 640x480 with 1 Axes>"
      ]
     },
     "metadata": {},
     "output_type": "display_data"
    }
   ],
   "source": [
    "Ns = np.linspace(2,100, num = 99, dtype = int)\n",
    "values, bs = question_2(S,r,vol,T,Ns,K)\n",
    "plt.plot(Ns,np.full(len(Ns),bs), linestyle='--' ,label = \"Black scholes\", color = 'red')\n",
    "plt.plot(Ns, values, marker = 'o' ,label = \"Binomial tree\")\n",
    "plt.xlabel('N')\n",
    "plt.ylabel('Option value')\n",
    "plt.grid(True)\n",
    "plt.legend()"
   ]
  },
  {
   "cell_type": "markdown",
   "metadata": {},
   "source": [
    "## Question 3"
   ]
  },
  {
   "cell_type": "code",
   "execution_count": 36,
   "metadata": {},
   "outputs": [
    {
     "name": "stdout",
     "output_type": "stream",
     "text": [
      "European Put option\n",
      "[[ 9.46688019  0.          0.          0.        ]\n",
      " [16.52823209  3.49950606  0.          0.        ]\n",
      " [27.13683742  7.601361    0.          0.        ]\n",
      " [39.90692571 16.5110984   0.          0.        ]]\n",
      "American Put option\n",
      "[[ 9.79307476  0.          0.          0.        ]\n",
      " [17.23676714  3.49950606  0.          0.        ]\n",
      " [28.67586338  7.601361    0.          0.        ]\n",
      " [39.90692571 16.5110984   0.          0.        ]]\n"
     ]
    }
   ],
   "source": [
    "binomial_tree = Binomial_Tree(S,r,vol,T,3,K)\n",
    "print('European Put option')\n",
    "print(binomial_tree.v_tree_european_put)\n",
    "\n",
    "print('American Put option')\n",
    "print(binomial_tree.v_tree_american_put)"
   ]
  },
  {
   "cell_type": "markdown",
   "metadata": {},
   "source": [
    "### a)"
   ]
  },
  {
   "cell_type": "markdown",
   "metadata": {},
   "source": [
    "The american option is worth more"
   ]
  },
  {
   "cell_type": "code",
   "execution_count": 13,
   "metadata": {},
   "outputs": [
    {
     "ename": "NameError",
     "evalue": "name 'binomial_tree' is not defined",
     "output_type": "error",
     "traceback": [
      "\u001b[1;31m---------------------------------------------------------------------------\u001b[0m",
      "\u001b[1;31mNameError\u001b[0m                                 Traceback (most recent call last)",
      "Cell \u001b[1;32mIn[13], line 2\u001b[0m\n\u001b[0;32m      1\u001b[0m \u001b[38;5;66;03m### Optimal execution\u001b[39;00m\n\u001b[1;32m----> 2\u001b[0m np\u001b[38;5;241m.\u001b[39mwhere(binomial_tree\u001b[38;5;241m.\u001b[39mv_tree_american_put \u001b[38;5;241m>\u001b[39mbinomial_tree\u001b[38;5;241m.\u001b[39mv_tree_american_put[\u001b[38;5;241m0\u001b[39m,\u001b[38;5;241m0\u001b[39m])\n",
      "\u001b[1;31mNameError\u001b[0m: name 'binomial_tree' is not defined"
     ]
    }
   ],
   "source": [
    "### Optimal execution\n",
    "np.where(binomial_tree.v_tree_american_put >binomial_tree.v_tree_american_put[0,0])"
   ]
  },
  {
   "cell_type": "markdown",
   "metadata": {},
   "source": [
    "### b)"
   ]
  },
  {
   "cell_type": "code",
   "execution_count": null,
   "metadata": {},
   "outputs": [],
   "source": [
    "Ns = np.linspace(2,100, num = 99, dtype = int)\n",
    "values, bs = question_2(S,r,vol,T,Ns,K, option= 'American')\n",
    "plt.plot(Ns, values, marker = 'o' label = \"Binomial tree\")\n",
    "plt.xlabel('N')\n",
    "plt.ylabel('Option value')\n",
    "plt.grid(True)\n",
    "plt.legend()"
   ]
  },
  {
   "cell_type": "markdown",
   "metadata": {},
   "source": [
    "### c)"
   ]
  },
  {
   "cell_type": "code",
   "execution_count": null,
   "metadata": {},
   "outputs": [],
   "source": [
    "rs = np.linspace(0,1,num=100)"
   ]
  }
 ],
 "metadata": {
  "kernelspec": {
   "display_name": "Python 3",
   "language": "python",
   "name": "python3"
  },
  "language_info": {
   "codemirror_mode": {
    "name": "ipython",
    "version": 3
   },
   "file_extension": ".py",
   "mimetype": "text/x-python",
   "name": "python",
   "nbconvert_exporter": "python",
   "pygments_lexer": "ipython3",
   "version": "3.11.4"
  }
 },
 "nbformat": 4,
 "nbformat_minor": 2
}
